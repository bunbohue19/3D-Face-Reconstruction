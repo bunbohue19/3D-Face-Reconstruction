{
 "cells": [
  {
   "cell_type": "code",
   "execution_count": 26,
   "metadata": {},
   "outputs": [],
   "source": [
    "# import torch\n",
    "# import torchvision\n",
    "\n",
    "# model = torchvision.models.resnet50()\n",
    "# # checkpoint = torch.load('/mnt/4TData/vuquang/3d-face-rec/Deep3DFaceRecon_pytorch/checkpoints/12-05-2024/epoch_latest.pth')\n",
    "# checkpoint = torch.load('/mnt/4TData/vuquang/3d-face-rec/Deep3DFaceRecon_pytorch/checkpoints/init_model/resnet50-0676ba61.pth')\n",
    "# model.load_state_dict(checkpoint)"
   ]
  },
  {
   "cell_type": "code",
   "execution_count": null,
   "metadata": {},
   "outputs": [],
   "source": [
    "### Images\n",
    "# import glob\n",
    "# import os\n",
    "\n",
    "# root = '/mnt/4TData/vuquang/3d-face-rec/Deep3DFaceRecon_pytorch/datasets/02-05-2024/val/landmarks'\n",
    "# image_paths = glob.glob(os.path.join(root, \"**\",  \"*.txt\"), recursive=True)\n",
    "# image_paths = sorted(image_paths, key=lambda x : x)\n",
    "# for img_path in image_paths:\n",
    "#     img_name = img_path.split(\"/\")[-1][:-4]\n",
    "#     print(f'./datasets/02-05-2024/val/{img_name}.jpg')"
   ]
  },
  {
   "cell_type": "code",
   "execution_count": 28,
   "metadata": {},
   "outputs": [],
   "source": [
    "### Landmarks\n",
    "# import glob\n",
    "# import os\n",
    "\n",
    "# root = '/mnt/4TData/vuquang/3d-face-rec/Deep3DFaceRecon_pytorch/datasets/02-05-2024/val/landmarks'\n",
    "# image_paths = glob.glob(os.path.join(root, \"**\",  \"*.txt\"), recursive=True)\n",
    "# image_paths = sorted(image_paths, key=lambda x : x)\n",
    "# for img_path in image_paths:\n",
    "#     img_name = img_path.split(\"/\")[-1]\n",
    "#     print(f'./datasets/02-05-2024/val/landmarks/{img_name}')"
   ]
  },
  {
   "cell_type": "code",
   "execution_count": 29,
   "metadata": {},
   "outputs": [],
   "source": [
    "### Masks\n",
    "# import glob\n",
    "# import os\n",
    "\n",
    "# root = '/mnt/4TData/vuquang/3d-face-rec/Deep3DFaceRecon_pytorch/datasets/02-05-2024/val/mask'\n",
    "# image_paths = glob.glob(os.path.join(root, \"**\",  \"*.jpg\"), recursive=True)\n",
    "# image_paths = sorted(image_paths, key=lambda x : x)\n",
    "# for img_path in image_paths:\n",
    "#     img_name = img_path.split(\"/\")[-1]\n",
    "#     print(f'./datasets/02-05-2024/val/masks/{img_name}')"
   ]
  }
 ],
 "metadata": {
  "kernelspec": {
   "display_name": "3d-face-recon",
   "language": "python",
   "name": "python3"
  },
  "language_info": {
   "codemirror_mode": {
    "name": "ipython",
    "version": 3
   },
   "file_extension": ".py",
   "mimetype": "text/x-python",
   "name": "python",
   "nbconvert_exporter": "python",
   "pygments_lexer": "ipython3",
   "version": "3.6.13"
  }
 },
 "nbformat": 4,
 "nbformat_minor": 2
}
