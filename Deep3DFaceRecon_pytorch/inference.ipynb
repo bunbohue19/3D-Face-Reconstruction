{
 "cells": [
  {
   "cell_type": "code",
   "execution_count": 1,
   "metadata": {},
   "outputs": [],
   "source": [
    "# import warnings\n",
    "# import os\n",
    "# import warnings\n",
    "# import numpy as np\n",
    "# import torch\n",
    "# import time\n",
    "# from options.test_options import TestOptions\n",
    "# from data import create_dataset\n",
    "# from models import create_model\n",
    "# from util.visualizer import MyVisualizer\n",
    "# from util.preprocess import align_img\n",
    "# from PIL import Image\n",
    "# from util.load_mats import load_lm3d\n",
    "# from data.flist_dataset import default_flist_reader\n",
    "# from scipy.io import loadmat, savemat\n",
    "# from tqdm import tqdm"
   ]
  },
  {
   "cell_type": "code",
   "execution_count": 2,
   "metadata": {},
   "outputs": [],
   "source": [
    "# !/mnt/4TData/vuquang/anaconda3/envs/mtcnn/bin/python3 test-inference_detect_facial_landmarks.py"
   ]
  },
  {
   "cell_type": "code",
   "execution_count": 3,
   "metadata": {},
   "outputs": [],
   "source": [
    "# !./inference-engine.sh"
   ]
  }
 ],
 "metadata": {
  "kernelspec": {
   "display_name": "3d-face-recon",
   "language": "python",
   "name": "python3"
  },
  "language_info": {
   "codemirror_mode": {
    "name": "ipython",
    "version": 3
   },
   "file_extension": ".py",
   "mimetype": "text/x-python",
   "name": "python",
   "nbconvert_exporter": "python",
   "pygments_lexer": "ipython3",
   "version": "3.6.13"
  }
 },
 "nbformat": 4,
 "nbformat_minor": 2
}
